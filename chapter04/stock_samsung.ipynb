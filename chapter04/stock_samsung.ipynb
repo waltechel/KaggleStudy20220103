{
  "cells": [
    {
      "cell_type": "markdown",
      "metadata": {
        "id": "view-in-github",
        "colab_type": "text"
      },
      "source": [
        "<a href=\"https://colab.research.google.com/github/waltechel/KaggleStudy20220103/blob/master/chapter04/stock_samsung.ipynb\" target=\"_parent\"><img src=\"https://colab.research.google.com/assets/colab-badge.svg\" alt=\"Open In Colab\"/></a>"
      ]
    },
    {
      "cell_type": "markdown",
      "source": [
        "# import\n",
        "- 해당 라이브러리는 초기화한 다음에 런타임 초기화하면 안된다"
      ],
      "metadata": {
        "id": "sfD6XhKWxvv0"
      }
    },
    {
      "cell_type": "code",
      "source": [
        "!pip install -U finance-datareader"
      ],
      "metadata": {
        "id": "VHs1UAE3xuHe",
        "outputId": "0abdd472-2f87-40f5-b43f-cd32667e3480",
        "colab": {
          "base_uri": "https://localhost:8080/"
        }
      },
      "execution_count": 6,
      "outputs": [
        {
          "output_type": "stream",
          "name": "stdout",
          "text": [
            "Requirement already satisfied: finance-datareader in /usr/local/lib/python3.7/dist-packages (0.9.31)\n",
            "Requirement already satisfied: requests-file in /usr/local/lib/python3.7/dist-packages (from finance-datareader) (1.5.1)\n",
            "Requirement already satisfied: pandas>=0.19.2 in /usr/local/lib/python3.7/dist-packages (from finance-datareader) (1.3.5)\n",
            "Requirement already satisfied: lxml in /usr/local/lib/python3.7/dist-packages (from finance-datareader) (4.2.6)\n",
            "Requirement already satisfied: tqdm in /usr/local/lib/python3.7/dist-packages (from finance-datareader) (4.62.3)\n",
            "Requirement already satisfied: requests>=2.3.0 in /usr/local/lib/python3.7/dist-packages (from finance-datareader) (2.23.0)\n",
            "Requirement already satisfied: python-dateutil>=2.7.3 in /usr/local/lib/python3.7/dist-packages (from pandas>=0.19.2->finance-datareader) (2.8.2)\n",
            "Requirement already satisfied: numpy>=1.17.3 in /usr/local/lib/python3.7/dist-packages (from pandas>=0.19.2->finance-datareader) (1.19.5)\n",
            "Requirement already satisfied: pytz>=2017.3 in /usr/local/lib/python3.7/dist-packages (from pandas>=0.19.2->finance-datareader) (2018.9)\n",
            "Requirement already satisfied: six>=1.5 in /usr/local/lib/python3.7/dist-packages (from python-dateutil>=2.7.3->pandas>=0.19.2->finance-datareader) (1.15.0)\n",
            "Requirement already satisfied: urllib3!=1.25.0,!=1.25.1,<1.26,>=1.21.1 in /usr/local/lib/python3.7/dist-packages (from requests>=2.3.0->finance-datareader) (1.24.3)\n",
            "Requirement already satisfied: idna<3,>=2.5 in /usr/local/lib/python3.7/dist-packages (from requests>=2.3.0->finance-datareader) (2.10)\n",
            "Requirement already satisfied: chardet<4,>=3.0.2 in /usr/local/lib/python3.7/dist-packages (from requests>=2.3.0->finance-datareader) (3.0.4)\n",
            "Requirement already satisfied: certifi>=2017.4.17 in /usr/local/lib/python3.7/dist-packages (from requests>=2.3.0->finance-datareader) (2021.10.8)\n"
          ]
        }
      ]
    },
    {
      "cell_type": "code",
      "execution_count": 7,
      "metadata": {
        "id": "3ry2Zk8DwMI2"
      },
      "outputs": [],
      "source": [
        "import pandas as pd\n",
        "import numpy as np\n",
        "import matplotlib.pyplot as plt\n",
        "from keras.models import Sequential\n",
        "from keras.layers import LSTM, Dropout, Dense, Activation\n",
        "# from keras.callbacks import TensorBoard, ModelCheckpoint, ReduceLROnPlateau\n",
        "import datetime\n",
        "import FinanceDataReader as fdr"
      ]
    },
    {
      "cell_type": "markdown",
      "metadata": {
        "id": "Sr1P8SANwMI6"
      },
      "source": [
        "# Load Dataset"
      ]
    },
    {
      "cell_type": "markdown",
      "source": [
        "- 이렇게 데이터를 쓸 수 있어요\n",
        "\n",
        "```python\n",
        "format = '%Y-%m-%d'\n",
        "df_KOSPI = fdr.StockListing('KOSPI') # 코스피\n",
        "df_KOSDAQ = fdr.StockListing('KOSDAQ') # 코스닥\n",
        "df_KOSPI = pd.concat([df_KOSPI, df_KOSDAQ])\n",
        "total_dataframe = pd.DataFrame()\n",
        "```"
      ],
      "metadata": {
        "id": "ygUn4bkz1why"
      }
    },
    {
      "cell_type": "markdown",
      "source": [
        "- 이렇게 하면 데이터를 가져올 수 있어요."
      ],
      "metadata": {
        "id": "C2VLxBOLz3pk"
      }
    },
    {
      "cell_type": "code",
      "source": [
        "# 005930 삼성전자\n",
        "# BTC/KRW 비트코인\n",
        "# ETH/KRW 이더리움\n",
        "# XRP/KRW 리플\n",
        "# BCH/KRW 비트코인 캐시\n",
        "# EOS/KRW 이오스\n",
        "# LTC/KRW 라이트 코인\n",
        "# XLM/KRW 스텔라\n",
        "df = fdr.DataReader('005930', '2016')"
      ],
      "metadata": {
        "id": "an-3V5_ZyiRC"
      },
      "execution_count": 32,
      "outputs": []
    },
    {
      "cell_type": "code",
      "execution_count": 33,
      "metadata": {
        "id": "-_gmHFZdwMI7",
        "outputId": "e7e25d19-5db7-4cc6-a79b-d41c011adb7d",
        "colab": {
          "base_uri": "https://localhost:8080/",
          "height": 238
        }
      },
      "outputs": [
        {
          "output_type": "execute_result",
          "data": {
            "text/html": [
              "\n",
              "  <div id=\"df-8c91e853-36df-4410-a732-d6b980b66177\">\n",
              "    <div class=\"colab-df-container\">\n",
              "      <div>\n",
              "<style scoped>\n",
              "    .dataframe tbody tr th:only-of-type {\n",
              "        vertical-align: middle;\n",
              "    }\n",
              "\n",
              "    .dataframe tbody tr th {\n",
              "        vertical-align: top;\n",
              "    }\n",
              "\n",
              "    .dataframe thead th {\n",
              "        text-align: right;\n",
              "    }\n",
              "</style>\n",
              "<table border=\"1\" class=\"dataframe\">\n",
              "  <thead>\n",
              "    <tr style=\"text-align: right;\">\n",
              "      <th></th>\n",
              "      <th>Open</th>\n",
              "      <th>High</th>\n",
              "      <th>Low</th>\n",
              "      <th>Close</th>\n",
              "      <th>Volume</th>\n",
              "      <th>Change</th>\n",
              "    </tr>\n",
              "    <tr>\n",
              "      <th>Date</th>\n",
              "      <th></th>\n",
              "      <th></th>\n",
              "      <th></th>\n",
              "      <th></th>\n",
              "      <th></th>\n",
              "      <th></th>\n",
              "    </tr>\n",
              "  </thead>\n",
              "  <tbody>\n",
              "    <tr>\n",
              "      <th>2016-01-04</th>\n",
              "      <td>25200</td>\n",
              "      <td>25200</td>\n",
              "      <td>24100</td>\n",
              "      <td>24100</td>\n",
              "      <td>306939</td>\n",
              "      <td>-0.043651</td>\n",
              "    </tr>\n",
              "    <tr>\n",
              "      <th>2016-01-05</th>\n",
              "      <td>24040</td>\n",
              "      <td>24360</td>\n",
              "      <td>23720</td>\n",
              "      <td>24160</td>\n",
              "      <td>216002</td>\n",
              "      <td>0.002490</td>\n",
              "    </tr>\n",
              "    <tr>\n",
              "      <th>2016-01-06</th>\n",
              "      <td>24160</td>\n",
              "      <td>24160</td>\n",
              "      <td>23360</td>\n",
              "      <td>23500</td>\n",
              "      <td>366752</td>\n",
              "      <td>-0.027318</td>\n",
              "    </tr>\n",
              "    <tr>\n",
              "      <th>2016-01-07</th>\n",
              "      <td>23320</td>\n",
              "      <td>23660</td>\n",
              "      <td>23020</td>\n",
              "      <td>23260</td>\n",
              "      <td>282388</td>\n",
              "      <td>-0.010213</td>\n",
              "    </tr>\n",
              "    <tr>\n",
              "      <th>2016-01-08</th>\n",
              "      <td>23260</td>\n",
              "      <td>23720</td>\n",
              "      <td>23260</td>\n",
              "      <td>23420</td>\n",
              "      <td>257763</td>\n",
              "      <td>0.006879</td>\n",
              "    </tr>\n",
              "  </tbody>\n",
              "</table>\n",
              "</div>\n",
              "      <button class=\"colab-df-convert\" onclick=\"convertToInteractive('df-8c91e853-36df-4410-a732-d6b980b66177')\"\n",
              "              title=\"Convert this dataframe to an interactive table.\"\n",
              "              style=\"display:none;\">\n",
              "        \n",
              "  <svg xmlns=\"http://www.w3.org/2000/svg\" height=\"24px\"viewBox=\"0 0 24 24\"\n",
              "       width=\"24px\">\n",
              "    <path d=\"M0 0h24v24H0V0z\" fill=\"none\"/>\n",
              "    <path d=\"M18.56 5.44l.94 2.06.94-2.06 2.06-.94-2.06-.94-.94-2.06-.94 2.06-2.06.94zm-11 1L8.5 8.5l.94-2.06 2.06-.94-2.06-.94L8.5 2.5l-.94 2.06-2.06.94zm10 10l.94 2.06.94-2.06 2.06-.94-2.06-.94-.94-2.06-.94 2.06-2.06.94z\"/><path d=\"M17.41 7.96l-1.37-1.37c-.4-.4-.92-.59-1.43-.59-.52 0-1.04.2-1.43.59L10.3 9.45l-7.72 7.72c-.78.78-.78 2.05 0 2.83L4 21.41c.39.39.9.59 1.41.59.51 0 1.02-.2 1.41-.59l7.78-7.78 2.81-2.81c.8-.78.8-2.07 0-2.86zM5.41 20L4 18.59l7.72-7.72 1.47 1.35L5.41 20z\"/>\n",
              "  </svg>\n",
              "      </button>\n",
              "      \n",
              "  <style>\n",
              "    .colab-df-container {\n",
              "      display:flex;\n",
              "      flex-wrap:wrap;\n",
              "      gap: 12px;\n",
              "    }\n",
              "\n",
              "    .colab-df-convert {\n",
              "      background-color: #E8F0FE;\n",
              "      border: none;\n",
              "      border-radius: 50%;\n",
              "      cursor: pointer;\n",
              "      display: none;\n",
              "      fill: #1967D2;\n",
              "      height: 32px;\n",
              "      padding: 0 0 0 0;\n",
              "      width: 32px;\n",
              "    }\n",
              "\n",
              "    .colab-df-convert:hover {\n",
              "      background-color: #E2EBFA;\n",
              "      box-shadow: 0px 1px 2px rgba(60, 64, 67, 0.3), 0px 1px 3px 1px rgba(60, 64, 67, 0.15);\n",
              "      fill: #174EA6;\n",
              "    }\n",
              "\n",
              "    [theme=dark] .colab-df-convert {\n",
              "      background-color: #3B4455;\n",
              "      fill: #D2E3FC;\n",
              "    }\n",
              "\n",
              "    [theme=dark] .colab-df-convert:hover {\n",
              "      background-color: #434B5C;\n",
              "      box-shadow: 0px 1px 3px 1px rgba(0, 0, 0, 0.15);\n",
              "      filter: drop-shadow(0px 1px 2px rgba(0, 0, 0, 0.3));\n",
              "      fill: #FFFFFF;\n",
              "    }\n",
              "  </style>\n",
              "\n",
              "      <script>\n",
              "        const buttonEl =\n",
              "          document.querySelector('#df-8c91e853-36df-4410-a732-d6b980b66177 button.colab-df-convert');\n",
              "        buttonEl.style.display =\n",
              "          google.colab.kernel.accessAllowed ? 'block' : 'none';\n",
              "\n",
              "        async function convertToInteractive(key) {\n",
              "          const element = document.querySelector('#df-8c91e853-36df-4410-a732-d6b980b66177');\n",
              "          const dataTable =\n",
              "            await google.colab.kernel.invokeFunction('convertToInteractive',\n",
              "                                                     [key], {});\n",
              "          if (!dataTable) return;\n",
              "\n",
              "          const docLinkHtml = 'Like what you see? Visit the ' +\n",
              "            '<a target=\"_blank\" href=https://colab.research.google.com/notebooks/data_table.ipynb>data table notebook</a>'\n",
              "            + ' to learn more about interactive tables.';\n",
              "          element.innerHTML = '';\n",
              "          dataTable['output_type'] = 'display_data';\n",
              "          await google.colab.output.renderOutput(dataTable, element);\n",
              "          const docLink = document.createElement('div');\n",
              "          docLink.innerHTML = docLinkHtml;\n",
              "          element.appendChild(docLink);\n",
              "        }\n",
              "      </script>\n",
              "    </div>\n",
              "  </div>\n",
              "  "
            ],
            "text/plain": [
              "             Open   High    Low  Close  Volume    Change\n",
              "Date                                                    \n",
              "2016-01-04  25200  25200  24100  24100  306939 -0.043651\n",
              "2016-01-05  24040  24360  23720  24160  216002  0.002490\n",
              "2016-01-06  24160  24160  23360  23500  366752 -0.027318\n",
              "2016-01-07  23320  23660  23020  23260  282388 -0.010213\n",
              "2016-01-08  23260  23720  23260  23420  257763  0.006879"
            ]
          },
          "metadata": {},
          "execution_count": 33
        }
      ],
      "source": [
        "df.head()"
      ]
    },
    {
      "cell_type": "markdown",
      "metadata": {
        "id": "l7QeDTGOwMI8"
      },
      "source": [
        "# Compute Mid Price"
      ]
    },
    {
      "cell_type": "code",
      "execution_count": 34,
      "metadata": {
        "id": "JdVKYNwrwMI9"
      },
      "outputs": [],
      "source": [
        "high_prices = df['High'].values\n",
        "low_prices = df['Low'].values\n",
        "mid_prices = (high_prices + low_prices) / 2"
      ]
    },
    {
      "cell_type": "markdown",
      "metadata": {
        "id": "b2pPSsdnwMI9"
      },
      "source": [
        "# Create Windows"
      ]
    },
    {
      "cell_type": "code",
      "execution_count": 35,
      "metadata": {
        "id": "gcl2fy-BwMI-"
      },
      "outputs": [],
      "source": [
        "seq_len = 50\n",
        "sequence_length = seq_len + 1\n",
        "\n",
        "result = []\n",
        "for index in range(len(mid_prices) - sequence_length):\n",
        "    result.append(mid_prices[index: index + sequence_length])"
      ]
    },
    {
      "cell_type": "markdown",
      "metadata": {
        "id": "NeMgduR-wMI_"
      },
      "source": [
        "# Normalize Data"
      ]
    },
    {
      "cell_type": "markdown",
      "source": [
        "- 이거는 완전히 사기 \n",
        "  - 중간에 값을 채우는 기법밖에는 되지 않음\n",
        "  - 10개 중에 9개 점 찍어 놓고 1개의 점을 채워넣는 기법\n",
        "  - 미래를 예측하는 것이 아니다"
      ],
      "metadata": {
        "id": "RixlKGc7xQfp"
      }
    },
    {
      "cell_type": "code",
      "execution_count": 36,
      "metadata": {
        "id": "UC0lUf6YwMI_",
        "outputId": "6991c026-bd79-4b47-8c2f-a1d849c6db0c",
        "colab": {
          "base_uri": "https://localhost:8080/"
        }
      },
      "outputs": [
        {
          "output_type": "execute_result",
          "data": {
            "text/plain": [
              "((1299, 50, 1), (144, 50, 1))"
            ]
          },
          "metadata": {},
          "execution_count": 36
        }
      ],
      "source": [
        "normalized_data = []\n",
        "for window in result:\n",
        "    if float(window[0]) == 0:\n",
        "        continue\n",
        "    normalized_window = [((float(p) / float(window[0])) - 1) for p in window]\n",
        "    normalized_data.append(normalized_window)\n",
        "\n",
        "result = np.array(normalized_data)\n",
        "\n",
        "# split train and test data\n",
        "row = int(round(result.shape[0] * 0.9))\n",
        "train = result[:row, :]\n",
        "np.random.shuffle(train)\n",
        "\n",
        "x_train = train[:, :-1]\n",
        "x_train = np.reshape(x_train, (x_train.shape[0], x_train.shape[1], 1))\n",
        "y_train = train[:, -1]\n",
        "\n",
        "x_test = result[row:, :-1]\n",
        "x_test = np.reshape(x_test, (x_test.shape[0], x_test.shape[1], 1))\n",
        "y_test = result[row:, -1]\n",
        "\n",
        "x_train.shape, x_test.shape"
      ]
    },
    {
      "cell_type": "markdown",
      "metadata": {
        "id": "XOpG4OSmwMJA"
      },
      "source": [
        "# Build a Model"
      ]
    },
    {
      "cell_type": "code",
      "execution_count": 37,
      "metadata": {
        "id": "EMSNnTRpwMJA",
        "outputId": "bf492f93-4610-4dbd-b068-78a89a25cfda",
        "colab": {
          "base_uri": "https://localhost:8080/"
        }
      },
      "outputs": [
        {
          "output_type": "stream",
          "name": "stdout",
          "text": [
            "Model: \"sequential_3\"\n",
            "_________________________________________________________________\n",
            " Layer (type)                Output Shape              Param #   \n",
            "=================================================================\n",
            " lstm_6 (LSTM)               (None, 50, 50)            10400     \n",
            "                                                                 \n",
            " lstm_7 (LSTM)               (None, 64)                29440     \n",
            "                                                                 \n",
            " dense_3 (Dense)             (None, 1)                 65        \n",
            "                                                                 \n",
            "=================================================================\n",
            "Total params: 39,905\n",
            "Trainable params: 39,905\n",
            "Non-trainable params: 0\n",
            "_________________________________________________________________\n"
          ]
        }
      ],
      "source": [
        "model = Sequential()\n",
        "\n",
        "model.add(LSTM(50, return_sequences=True, input_shape=(50, 1)))\n",
        "\n",
        "model.add(LSTM(64, return_sequences=False))\n",
        "\n",
        "model.add(Dense(1, activation='linear'))\n",
        "\n",
        "model.compile(loss='mse', optimizer='rmsprop')\n",
        "\n",
        "model.summary()"
      ]
    },
    {
      "cell_type": "markdown",
      "metadata": {
        "id": "BOexHegVwMJB"
      },
      "source": [
        "# Training"
      ]
    },
    {
      "cell_type": "code",
      "execution_count": null,
      "metadata": {
        "scrolled": true,
        "id": "-tCGdKXcwMJB",
        "outputId": "967752e1-6f58-4280-ea5b-59e67d90cebd",
        "colab": {
          "base_uri": "https://localhost:8080/"
        }
      },
      "outputs": [
        {
          "output_type": "stream",
          "name": "stdout",
          "text": [
            "Epoch 1/20\n",
            "130/130 [==============================] - 9s 43ms/step - loss: 0.0049 - val_loss: 0.0018\n",
            "Epoch 2/20\n",
            "130/130 [==============================] - 5s 37ms/step - loss: 0.0039 - val_loss: 6.1253e-04\n",
            "Epoch 3/20\n",
            "130/130 [==============================] - 5s 38ms/step - loss: 0.0036 - val_loss: 5.0815e-04\n",
            "Epoch 4/20\n",
            " 53/130 [===========>..................] - ETA: 2s - loss: 0.0054"
          ]
        }
      ],
      "source": [
        "model.fit(x_train, y_train,\n",
        "    validation_data=(x_test, y_test),\n",
        "    batch_size=10,\n",
        "    epochs=20)"
      ]
    },
    {
      "cell_type": "markdown",
      "metadata": {
        "id": "fLiRtV6lwMJB"
      },
      "source": [
        "# Prediction"
      ]
    },
    {
      "cell_type": "code",
      "execution_count": null,
      "metadata": {
        "id": "G0QM1d7twMJC"
      },
      "outputs": [],
      "source": [
        "pred = model.predict(x_test)\n",
        "\n",
        "fig = plt.figure(facecolor='white', figsize=(20, 10))\n",
        "ax = fig.add_subplot(111)\n",
        "ax.plot(y_test, label='True')\n",
        "ax.plot(pred, label='Prediction')\n",
        "ax.legend()\n",
        "plt.show()"
      ]
    },
    {
      "cell_type": "code",
      "execution_count": null,
      "metadata": {
        "id": "fIQ3I_FVwMJC"
      },
      "outputs": [],
      "source": [
        ""
      ]
    }
  ],
  "metadata": {
    "kernelspec": {
      "display_name": "bdf",
      "language": "python",
      "name": "bdf"
    },
    "language_info": {
      "codemirror_mode": {
        "name": "ipython",
        "version": 3
      },
      "file_extension": ".py",
      "mimetype": "text/x-python",
      "name": "python",
      "nbconvert_exporter": "python",
      "pygments_lexer": "ipython3",
      "version": "3.5.1"
    },
    "colab": {
      "name": "stock_samsung.ipynb",
      "provenance": [],
      "include_colab_link": true
    }
  },
  "nbformat": 4,
  "nbformat_minor": 0
}