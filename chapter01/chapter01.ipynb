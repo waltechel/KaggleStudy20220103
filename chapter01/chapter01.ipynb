{
  "nbformat": 4,
  "nbformat_minor": 0,
  "metadata": {
    "colab": {
      "name": "Untitled13.ipynb",
      "private_outputs": true,
      "provenance": [],
      "authorship_tag": "ABX9TyMHKhhACIHCpgdo/h+oKZsa",
      "include_colab_link": true
    },
    "kernelspec": {
      "name": "python3",
      "display_name": "Python 3"
    },
    "language_info": {
      "name": "python"
    }
  },
  "cells": [
    {
      "cell_type": "markdown",
      "metadata": {
        "id": "view-in-github",
        "colab_type": "text"
      },
      "source": [
        "<a href=\"https://colab.research.google.com/github/waltechel/KaggleStudy20220103/blob/master/chapter01/chapter01.ipynb\" target=\"_parent\"><img src=\"https://colab.research.google.com/assets/colab-badge.svg\" alt=\"Open In Colab\"/></a>"
      ]
    },
    {
      "cell_type": "code",
      "execution_count": null,
      "metadata": {
        "id": "pD6IGxAdLrwD"
      },
      "outputs": [],
      "source": [
        "import cv2\n",
        "import dlib\n",
        "from imutils import face_utils, resize\n",
        "import numpy as np"
      ]
    },
    {
      "cell_type": "code",
      "source": [
        "orange_img = cv2.imread('orange.jpg')\n",
        "orange_img = cv2.resize(orange_img, dsize=(512, 512))"
      ],
      "metadata": {
        "id": "PQKbs6ASPzdM"
      },
      "execution_count": null,
      "outputs": []
    },
    {
      "cell_type": "code",
      "source": [
        "detector = dlib.get_frontal_face_detector()\n",
        "predictor = dlib.shape_predictor('shape_predictor_68_face_landmarks.dat')"
      ],
      "metadata": {
        "id": "zeuKPySGWZp4"
      },
      "execution_count": null,
      "outputs": []
    },
    {
      "cell_type": "code",
      "source": [
        "# 0을 하면 웹 캠을 사용한다.\n",
        "cap = cv2.VideoCapture('0.mp4')\n",
        "# cap = cv2.VideoCapture(0)"
      ],
      "metadata": {
        "id": "eAV8prtIWh8v"
      },
      "execution_count": null,
      "outputs": []
    },
    {
      "cell_type": "code",
      "source": [
        "cap.isOpened()"
      ],
      "metadata": {
        "id": "x9fdKKLpievW"
      },
      "execution_count": null,
      "outputs": []
    },
    {
      "cell_type": "code",
      "source": [
        "while cap.isOpened():\n",
        "  ret, img = cap.read()\n",
        "\n",
        "  # 프레임이 없으면 반복문을 빠져나와라\n",
        "  if not ret:\n",
        "    break\n",
        "  faces = detector(img)\n",
        "  result = orange_img.copy()\n",
        "\n",
        "  try:\n",
        "    if len(faces) > 0:\n",
        "      face = faces[0]\n",
        "\n",
        "      x1, y1, x2, y2 = face.left(), face.top(), face.right(), face.bottom()\n",
        "      face_img = img[y1:y2, x1:x2].copy()\n",
        "\n",
        "      shape = predictor(img, face)\n",
        "      shape = face_utils.shape_to_np(shape)\n",
        "\n",
        "      # eyes\n",
        "      le_x1 = shape[36, 0]\n",
        "      le_y1 = shape[37, 1]\n",
        "      le_x2 = shape[39, 0]\n",
        "      le_y2 = shape[41, 1]\n",
        "      le_margin = int((le_x2 - le_x1) * 0.18)\n",
        "\n",
        "      re_x1 = shape[42, 0]\n",
        "      re_y1 = shape[43, 1]\n",
        "      re_x2 = shape[45, 0]\n",
        "      re_y2 = shape[47, 1]\n",
        "      re_margin = int((re_x2 - re_x1) * 0.18)\n",
        "\n",
        "      left_eye_img = img[le_y1-le_margin:le_y2,+le_margin, le_x1-le_margin:le_x2+le_margin].copy()\n",
        "      right_eye_img = img[re_y1-re_margin:re_y2,+re_margin, re_x1-re_margin:re_x2+re_margin].copy()\n",
        "\n",
        "      left_eye_img = resize(left_eye_img, width=100)\n",
        "      right_eye_img = resize(right_eye_img, width=100)\n",
        "\n",
        "      result = cv2.seamlessClone(\n",
        "          left_eye_img,\n",
        "          result,\n",
        "          np.full(left_eye_img.shape[:2], 255, left_eye_img.dtype),\n",
        "          (100, 200),\n",
        "          cv2.MIXED_CLONE\n",
        "      )\n",
        "\n",
        "      result = cv2.seamlessClone(\n",
        "          right_eye_img,\n",
        "          result,\n",
        "          np.full(right_eye_img.shape[:2], 255, right_eye_img.dtype),\n",
        "          (100, 200),\n",
        "          cv2.MIXED_CLONE\n",
        "      )\n",
        "\n",
        "      # mouth\n",
        "      mouth_x1 = shape[48, 0]\n",
        "      mouth_y1 = shape[50, 1]\n",
        "      mouth_x2 = shape[54, 0]\n",
        "      mouth_y2 = shape[57, 1]\n",
        "      mouth_margin = int((mouth_x2 - mouth_x1) * 0.1)\n",
        "\n",
        "      mouth_img = img[mouth_y1-mouth_margin:mouth_y2+mouth_margin, mouth_x1-mouth_margin:mouth_x2+mouth_margin].copy()\n",
        "\n",
        "      mouth_img = resize(mouth_img, width=250)\n",
        "\n",
        "      result = cv2.seamlessClone(\n",
        "          mouth_img,\n",
        "          result,\n",
        "          np.full(mouth_img.shape[:2], 255, mouth_img.dtype),\n",
        "          (180, 320),\n",
        "          cv2.MIXED_CLONE\n",
        "      )\n",
        "\n",
        "      cv2.imshow('left', left_eye_img)\n",
        "      cv2.imshow('right', right_eye_img)\n",
        "      cv2.imshow('mouth', mouth_img)\n",
        "      cv2.imshow('face', face_img)\n",
        "\n",
        "      cv2.imshow('result', result)\n",
        "\n",
        "  except:\n",
        "    continue\n",
        "\n",
        "  "
      ],
      "metadata": {
        "id": "MunPKJ_BaDwp"
      },
      "execution_count": null,
      "outputs": []
    },
    {
      "cell_type": "code",
      "source": [
        ""
      ],
      "metadata": {
        "id": "SO3yyrrQiOht"
      },
      "execution_count": null,
      "outputs": []
    }
  ]
}